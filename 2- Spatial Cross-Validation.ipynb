{
 "cells": [
  {
   "cell_type": "markdown",
   "metadata": {},
   "source": [
    "## Model Evaluation"
   ]
  },
  {
   "cell_type": "markdown",
   "metadata": {},
   "source": [
    "One of the problems when trying to build prediction models with geograpich data is that we can not assume that the data are independent. Data points that are closer geographically usually are also more similar than those further away. This phenomennon is called Spatial autocorrelation (SAC). \n",
    "\n",
    "Spatial Autocorrelation (SAC) and its effects on spatial data analysis has been extensively studied in spatial statistics literature, e.g. (Legendre 1993, Koenig 1999).  \n",
    "\n",
    "### Spatial Cross-Validation (SKCV)\n",
    "\n",
    "Due to SAC the traditional Cross-Validation is not appropiate to evaluate the predictive performance of models that are based on geographic data. It has been demostrated that normal Cross-Validation would generate optimistically biased performance results.\n",
    "\n",
    "There are several methods to account for SAC described in the literature (Dormann et al, 2007). For this project the method we are going to use to tackle the problem of the Spatial Autocorrelation (SAC) is the method described in the works of (Pohjankukka et al. 2017), where the authors propose a new modified version of the CV method called spatial k-fold cross validation (SKCV), which provides a useful estimate for model prediction performance without optimistic bias due to SAC.\n",
    "\n",
    "<img src=\"files/SKCV.png\" width=\"360\">\n",
    "\n",
    "\n",
    "The spatial k-fold cross validation (SKCV) consist on a modified leave-one-out cross-validation in which on each fold we remove from the training set those data points that are closer to the sample we are testing. To achieve that we fix a radius (geographic distance) from the sample, removing those data points that reside inside that radius. \n",
    "\n",
    "SKCV prevent the effect of SAC, providing the performance value as a function of the distance between known data and unknown data.\n",
    "\n",
    "<img src=\"files/Pseudo Code SKCV.png\" width=\"600\">\n",
    "\n",
    "\n",
    "#### REFERENCES\n",
    "\n",
    "Dormann, F., et al., 2007. Methods to account for spatial autocorrelation in the analysis\n",
    "of species distributional data: a review. Ecography, 30 (5), 609{628.\n",
    "\n",
    "Koenig, W.D., 1999. Spatial autocorrelation of ecological phenomena. Trends in Ecology\n",
    "& Evolution, 14 (1), 22{26.\n",
    "\n",
    "Legendre, P., 1993. Spatial Autocorrelation: Trouble or New Paradigm?. Ecology, 74 (6),\n",
    "1659{1673.\n",
    "\n",
    "Pohjankukka, J., et al., 2017. Estimating the Prediction Performance of Spatial Models\n",
    "via Spatial k-Fold Cross Validation. International Journal of Geographical Information Science, 31(10), 1-19.\n",
    "\n",
    "\n"
   ]
  },
  {
   "cell_type": "markdown",
   "metadata": {},
   "source": [
    "### Cooncordance Index (C-Index)\n",
    "The scoring I am going to use to evaluate the performance of the model is the cooncordance index (c-index). The C-index is a performance measure that indicates how well the model captures the relative ordering/ranking of the data points. It is calculated using the predicted values together with the true values.\n",
    "\n",
    "- C-index does not measure the absolute accuracy of the model’s predictions when compared with the true labels.\n",
    "\n",
    "- C-index measures how well the model was able to rank the data points into correct order.\n",
    "\n",
    "- C-index is measured from 0 to 1, with 0.5 meaning the model wasn’t able to capture any information from the data.\n",
    "\n",
    "<img src=\"files/C-Index Pseudo Code.png\" width=\"600\">\n"
   ]
  },
  {
   "cell_type": "markdown",
   "metadata": {},
   "source": [
    "#### C-index implementation:"
   ]
  },
  {
   "cell_type": "code",
   "execution_count": 9,
   "metadata": {
    "ExecuteTime": {
     "end_time": "2019-11-26T11:29:19.880909Z",
     "start_time": "2019-11-26T11:29:19.874894Z"
    }
   },
   "outputs": [],
   "source": [
    "def c_index(true_labels, predictions):\n",
    "    \"\"\" Calculates the concordance index (C-index) \"\"\"\n",
    "\n",
    "    true_labels = list(true_labels)\n",
    "    predictions = list(predictions)\n",
    "\n",
    "    n = 0\n",
    "    h_sum = 0\n",
    "    for i in range(len(true_labels)):\n",
    "        t = true_labels[i]\n",
    "        p = predictions[i]\n",
    "        for j in range(i + 1, len(true_labels)):\n",
    "            nt = true_labels[j]\n",
    "            np = predictions[j]\n",
    "            if t != nt:\n",
    "                n += 1\n",
    "                if (p < np and t < nt) or (p > np and t > nt):\n",
    "                    h_sum += 1\n",
    "                elif p == np:\n",
    "                    h_sum += 0.5\n",
    "    # To avoid 'ZeroDivisionError' exception\n",
    "    if n == 0:\n",
    "        return h_sum\n",
    "    return h_sum / n"
   ]
  },
  {
   "cell_type": "markdown",
   "metadata": {},
   "source": [
    "### Spatial Cross-Validation (SKCV) Implementation"
   ]
  },
  {
   "cell_type": "code",
   "execution_count": 34,
   "metadata": {
    "ExecuteTime": {
     "end_time": "2019-11-26T12:20:15.123650Z",
     "start_time": "2019-11-26T12:20:15.107691Z"
    }
   },
   "outputs": [],
   "source": [
    "from math import sqrt\n",
    "\n",
    "# Function to calculate the geographic distance\n",
    "def get_geographical_distance(coordinates_1, coordinates_2):\n",
    "    \"\"\" Calculate the geographic distance between 2 pair of coordinates \"\"\"\n",
    "    x1, y1 = coordinates_1\n",
    "    x2, y2 = coordinates_2\n",
    "    distance = sqrt(((x1 - x2) ** 2) + ((y1 - y2) ** 2))\n",
    "\n",
    "    return distance\n",
    "\n",
    "\n",
    "# SKCV implementation\n",
    "def spatial_cross_validation(*, model, X, y, scoring, radius=0, verbose=True):\n",
    "   \n",
    "    \"\"\" Spatial cross-validation (SKCV)\n",
    "\n",
    "     Args:\n",
    "        - model: Sklearn based prediction model.\n",
    "        - X : Features (x_coordinates and y_coordinates columns required); (pandas.DataFrame).\n",
    "        - y: Target (pandas.Series or list).\n",
    "        - radious: Deadzone radius in meters (default=0).\n",
    "        - scoring: callable scoring function.\n",
    "        - verbose: If True, running info will be printed to the console.\n",
    "    Returns:\n",
    "        - Dict ('score', 'predictions')\n",
    "           \n",
    "    \"\"\" \n",
    "\n",
    "    dead_zone_radius = radius  # Deadzone radius in meters\n",
    "    X = X.copy()\n",
    "    y = y.copy()\n",
    "\n",
    "    # Set scoring function\n",
    "    scoring = scoring\n",
    "\n",
    "    y_df = pd.DataFrame(y, columns=['target'])\n",
    "    df = pd.concat([X, y_df], axis=1)\n",
    "\n",
    "    predictions = []\n",
    "    for index, sample in df.iterrows():\n",
    "        sample_xy = (sample['coordinate_x'], sample['coordinate_y'])\n",
    "\n",
    "        # Calculate geographic distances\n",
    "        if radius != 0:\n",
    "            df['distance'] = df.apply(\n",
    "                lambda x: get_geographical_distance(sample_xy, (x['coordinate_x'], x['coordinate_y'])),\n",
    "                axis=1)\n",
    "            # Remove from the training data set the samples that are inside dead_zone_distance\n",
    "            df_cleaned = df[df['distance'] > dead_zone_radius]\n",
    "\n",
    "            X_train = df_cleaned.drop(['coordinate_x', 'coordinate_y', 'distance', 'target'], axis=1)\n",
    "\n",
    "        else:\n",
    "            # If radius==0 drop only the sample present in the test set\n",
    "            df_cleaned = df.drop(index)\n",
    "            X_train = df_cleaned.drop(['coordinate_x', 'coordinate_y', 'target'], axis=1)\n",
    "\n",
    "        y_train = df_cleaned['target']\n",
    "        X_test = sample.drop(['coordinate_x', 'coordinate_y', 'target'])\n",
    "        X_test = np.array(X_test).reshape(1, -1)\n",
    "\n",
    "        # Make prediction\n",
    "        pred = model.fit(X_train, y_train).predict(X_test)\n",
    "        predictions.append(pred[0])\n",
    "\n",
    "    # Evaluate predictions\n",
    "    score = scoring(y, predictions)\n",
    "    if verbose:\n",
    "        print(f\"\\nScore: {score}\\n\")\n",
    "\n",
    "    dict_results = {'score': score, 'predictions': predictions}\n",
    "\n",
    "    return dict_results\n"
   ]
  },
  {
   "cell_type": "markdown",
   "metadata": {},
   "source": [
    "##### Let's also implement a normal leave_one_out cross-validation so that we can compare the performance resutls with the SKCV."
   ]
  },
  {
   "cell_type": "code",
   "execution_count": 1,
   "metadata": {
    "ExecuteTime": {
     "end_time": "2019-11-30T12:59:13.057196Z",
     "start_time": "2019-11-30T12:59:13.038246Z"
    }
   },
   "outputs": [],
   "source": [
    "import random\n",
    "\n",
    "def leave_n_out_cv(*, model, X, y, n_out=10, scoring, verbose=True):\n",
    "    \"\"\" Leave-n-out Cross-validation\"\"\"\n",
    "    \n",
    "    model = model\n",
    "    X = X.copy()\n",
    "    y = y.copy()\n",
    "\n",
    "    if not isinstance(y, pd.DataFrame):\n",
    "        y = pd.DataFrame(y, columns=['target'])\n",
    "    else:\n",
    "        y.columns = ['target']\n",
    "\n",
    "    df = pd.concat([X, y], axis=1)\n",
    "\n",
    "    scoring_func = scoring\n",
    "\n",
    "    indexes = list(X.index.values)\n",
    "    random.Random(4).shuffle(indexes)\n",
    "\n",
    "    n_out = n_out\n",
    "\n",
    "    if len(X) % n_out == 0:\n",
    "        number_of_samples = int(len(X) / n_out)\n",
    "    else:\n",
    "        number_of_samples = int((len(X) // n_out) + 1)\n",
    "\n",
    "    predictions = {'y_test': [], 'y_pred': []}\n",
    "    end_loop = False\n",
    "    while not end_loop:\n",
    "\n",
    "        for i in range(number_of_samples):\n",
    "\n",
    "            # Check how many indexes are left\n",
    "            if len(indexes) <= n_out:\n",
    "                # Put the remaining items in the sample and leave the loop run only 1 time more\n",
    "                sample = indexes\n",
    "                end_loop = True  # This will stop the loop on the next round\n",
    "\n",
    "            else:\n",
    "                sample = [indexes.pop(0) for i in range(n_out)]\n",
    "\n",
    "            train = df.drop(sample)\n",
    "            X_train = train.drop(['target'], axis=1)\n",
    "            y_train = train['target']\n",
    "            X_test = df.loc[sample].drop(['target'], axis=1)\n",
    "            y_test = df.loc[sample]['target']\n",
    "\n",
    "            # Reshape X_test and y_test is they are a single sample\n",
    "            if len(X) == 1:\n",
    "                X_test = np.array(X_test).reshape(1, -1)\n",
    "\n",
    "            y_pred = model.fit(X_train, y_train).predict(X_test)\n",
    "\n",
    "            predictions['y_test'].append(list(y_test))\n",
    "            predictions['y_pred'].append(list(y_pred))\n",
    "\n",
    "\n",
    "    score = scoring_func(predictions['y_test'], predictions['y_pred'])\n",
    "\n",
    "    if verbose:\n",
    "        print(f\"Score ({scoring_func.__name__}): {score}\", \"\\n\")\n",
    "\n",
    "    results_dict = {\n",
    "        \"score\": score,\n",
    "        \"predictions\": predictions\n",
    "    }\n",
    "    return results_dict"
   ]
  },
  {
   "cell_type": "markdown",
   "metadata": {},
   "source": [
    "#### Let's compare both cross-validations"
   ]
  },
  {
   "cell_type": "code",
   "execution_count": 2,
   "metadata": {
    "ExecuteTime": {
     "end_time": "2019-11-30T12:59:37.308346Z",
     "start_time": "2019-11-30T12:59:36.009820Z"
    }
   },
   "outputs": [],
   "source": [
    "# Import data\n",
    "import pandas as pd\n",
    "from sklearn.model_selection import train_test_split\n",
    "from sklearn.preprocessing import StandardScaler\n",
    "\n",
    "input_data = pd.read_csv(r'knn_model\\data\\INPUT.csv', header=None)\n",
    "coordinates = pd.read_csv(r'knn_model\\data\\COORDINATES.csv', header=None)\n",
    "coordinates.columns = ['c_x', 'c_y']\n",
    "X = pd.concat([input_data, coordinates], axis=1)\n",
    "\n",
    "# Standardization\n",
    "scaler = StandardScaler()\n",
    "X = pd.DataFrame(scaler.fit_transform(X))\n",
    "\n",
    "y = pd.read_csv(r'knn_model\\data\\OUTPUT.csv', header=None)\n",
    "y.columns = ['target']\n",
    "y = y['target'].values\n"
   ]
  },
  {
   "cell_type": "markdown",
   "metadata": {
    "ExecuteTime": {
     "end_time": "2019-11-26T11:42:07.165941Z",
     "start_time": "2019-11-26T11:42:07.162948Z"
    }
   },
   "source": [
    "#### Normal leave-one-out cross-validation"
   ]
  },
  {
   "cell_type": "code",
   "execution_count": 217,
   "metadata": {
    "ExecuteTime": {
     "end_time": "2019-11-27T17:31:57.967827Z",
     "start_time": "2019-11-27T17:31:33.580011Z"
    }
   },
   "outputs": [
    {
     "name": "stdout",
     "output_type": "stream",
     "text": [
      "Score (c_index): 0.7219005528264987 \n",
      "\n"
     ]
    }
   ],
   "source": [
    "from sklearn.neighbors import KNeighborsRegressor\n",
    "\n",
    "knn = KNeighborsRegressor(n_neighbors=37, metric='euclidean')\n",
    "\n",
    "loocv_results = leave_n_out_cv(model=knn, X=X, y=y, n_out=1, scoring=c_index)"
   ]
  },
  {
   "cell_type": "markdown",
   "metadata": {},
   "source": [
    "#### Spatial cross-validation (SKCV)"
   ]
  },
  {
   "cell_type": "code",
   "execution_count": 218,
   "metadata": {
    "ExecuteTime": {
     "end_time": "2019-11-27T17:31:58.195186Z",
     "start_time": "2019-11-27T17:31:58.187211Z"
    }
   },
   "outputs": [],
   "source": [
    "# This columns will be use to calculate the geographic distance in the SKCV \n",
    "coordinates.columns = ['coordinate_x', 'coordinate_y']\n",
    "X = pd.concat([X, coordinates], axis=1)"
   ]
  },
  {
   "cell_type": "code",
   "execution_count": 219,
   "metadata": {
    "ExecuteTime": {
     "end_time": "2019-11-27T18:10:01.916499Z",
     "start_time": "2019-11-27T17:31:58.432554Z"
    }
   },
   "outputs": [
    {
     "name": "stdout",
     "output_type": "stream",
     "text": [
      "Radius: 0 - Score (c_index): 0.7219005528264987\n",
      "Radius: 10 - Score (c_index): 0.7167369657398761\n",
      "Radius: 20 - Score (c_index): 0.715903666237826\n",
      "Radius: 30 - Score (c_index): 0.7108734210706831\n",
      "Radius: 40 - Score (c_index): 0.7064339401032298\n",
      "Radius: 50 - Score (c_index): 0.6970979058669045\n",
      "Radius: 60 - Score (c_index): 0.6885983209417509\n",
      "Radius: 70 - Score (c_index): 0.6809152365366659\n",
      "Radius: 80 - Score (c_index): 0.674472826946687\n",
      "Radius: 90 - Score (c_index): 0.6719785281011971\n",
      "Radius: 100 - Score (c_index): 0.667046276995614\n",
      "Radius: 110 - Score (c_index): 0.6271546444285476\n",
      "Radius: 120 - Score (c_index): 0.6105894482794343\n",
      "Radius: 130 - Score (c_index): 0.6016747885078164\n",
      "Radius: 140 - Score (c_index): 0.5989894012422847\n",
      "Radius: 150 - Score (c_index): 0.5962319183457483\n",
      "Radius: 160 - Score (c_index): 0.5964681540298657\n",
      "Radius: 170 - Score (c_index): 0.5960296306043854\n",
      "Radius: 180 - Score (c_index): 0.5961612226299087\n",
      "Radius: 190 - Score (c_index): 0.5955918071364875\n",
      "Radius: 200 - Score (c_index): 0.5955599590664806\n"
     ]
    }
   ],
   "source": [
    "radius = [r for r in range(0, 201, 10)]\n",
    "\n",
    "scores = {}\n",
    "for r in radius:\n",
    "    skcv_results = spatial_cross_validation(model=knn, X=X, y=y, scoring=c_index, radius=r, verbose=False)\n",
    "    print(f\"Radius: {r} - Score (c_index): {skcv_results['score']}\")\n",
    "          \n",
    "    # Save score in dict\n",
    "    scores[r] = skcv_results['score']    "
   ]
  },
  {
   "cell_type": "markdown",
   "metadata": {
    "ExecuteTime": {
     "end_time": "2019-11-30T13:00:44.869739Z",
     "start_time": "2019-11-30T13:00:44.866728Z"
    }
   },
   "source": [
    "#### Let's plot the results of the SKCV"
   ]
  },
  {
   "cell_type": "code",
   "execution_count": 222,
   "metadata": {
    "ExecuteTime": {
     "end_time": "2019-11-28T12:17:10.048837Z",
     "start_time": "2019-11-28T12:17:09.804201Z"
    }
   },
   "outputs": [
    {
     "data": {
      "text/plain": [
       "Text(0.5, 1.0, 'c-index vs dead zone radius')"
      ]
     },
     "execution_count": 222,
     "metadata": {},
     "output_type": "execute_result"
    },
    {
     "data": {
      "image/png": "[encoded data removed]",
      "text/plain": [
       "<Figure size 432x288 with 1 Axes>"
      ]
     },
     "metadata": {
      "needs_background": "light"
     },
     "output_type": "display_data"
    }
   ],
   "source": [
    "import seaborn as sns\n",
    "\n",
    "scores = pd.DataFrame(pd.Series(scores)).reset_index()\n",
    "scores.columns = ['Dead zone radius (m)', 'c-index']\n",
    "\n",
    "sns.lineplot(y='c-index', x='Dead zone radius (m)', data=scores, markers=True).set_title('c-index vs dead zone radius')"
   ]
  },
  {
   "cell_type": "markdown",
   "metadata": {
    "ExecuteTime": {
     "end_time": "2019-11-26T13:45:28.118717Z",
     "start_time": "2019-11-26T13:45:27.920212Z"
    }
   },
   "source": [
    "As it was to expect we can observe how the performance of our model decreases significanly as we increase the deadzone radius."
   ]
  },
  {
   "cell_type": "markdown",
   "metadata": {},
   "source": [
    "### Spatial Cross-Validation Optimized"
   ]
  },
  {
   "cell_type": "markdown",
   "metadata": {},
   "source": [
    "Due to the high numbers of features the current running time of the spatial_cross_validation function is quite high:"
   ]
  },
  {
   "cell_type": "code",
   "execution_count": 69,
   "metadata": {
    "ExecuteTime": {
     "end_time": "2019-11-26T14:22:06.219338Z",
     "start_time": "2019-11-26T14:20:10.747802Z"
    }
   },
   "outputs": [
    {
     "name": "stdout",
     "output_type": "stream",
     "text": [
      "Running time: 115.46517100000347 s\n"
     ]
    }
   ],
   "source": [
    "from timeit import default_timer as timer\n",
    "\n",
    "start = timer()\n",
    "spatial_cross_validation(model=knn, X=X, y=y, scoring=c_index, radius=10, verbose=False)\n",
    "end = timer()\n",
    "print(f\"Running time: {end - start} s\")"
   ]
  },
  {
   "cell_type": "markdown",
   "metadata": {},
   "source": [
    "With a running time of almost 2 minutes if we want to search for the optimum numbers of neighbors, lets say from n_neighbors=1 to n_neighbors=40, it would take 1 hour and 20 minutes (spects: 16Gb RAM; i7 core). However, we can create a new Spatial Cross-Validation implementation optimized for k Nearest Neighbors that reuses the distances for each of the different n_neighbors instead of re-calculating them again."
   ]
  },
  {
   "cell_type": "markdown",
   "metadata": {
    "ExecuteTime": {
     "end_time": "2019-11-27T17:24:37.575032Z",
     "start_time": "2019-11-27T17:24:37.571043Z"
    }
   },
   "source": [
    "#### spatial_CV_knn_optimized implementation"
   ]
  },
  {
   "cell_type": "code",
   "execution_count": 76,
   "metadata": {
    "ExecuteTime": {
     "end_time": "2019-11-26T15:29:33.058755Z",
     "start_time": "2019-11-26T15:29:33.039806Z"
    }
   },
   "outputs": [],
   "source": [
    "from statistics import mean\n",
    "\n",
    "def spatial_CV_knn_optimized(*, model, X, y, radius=0, scoring, n_neighbors=5, verbose=True):\n",
    "\n",
    "    \"\"\" Spatial cross-validation knn optimized(SKCV)\n",
    "\n",
    "     Args:\n",
    "        - model: sklearn.neighbors model (either for regression or classification)\n",
    "        - X : Features (x_coordinates and y_coordinates columns required); (pandas.DataFrame).\n",
    "        - y: Target (pandas.Series, list).\n",
    "        - radious: Deadzone radius in meters (default=0).\n",
    "        - scoring: callable scoring function.\n",
    "        - n_neighbors: number of neighbors (integer, list of integers)\n",
    "        - verbose: If True, running info will be printed to the console.\n",
    "    Returns:\n",
    "        - Pandas.DataFrame\n",
    "           \n",
    "    \"\"\" \n",
    "\n",
    "    assert isinstance(X, pd.DataFrame), f\"X: DataFrame type expected (Given: {type(X)})\"\n",
    "    assert isinstance(y, pd.Series) or isinstance(X, list), f\"y: Series/list type expected \" \\\n",
    "                                                            f\"(Given: {type(y)})\"\n",
    "\n",
    "    dead_zone_radius = radius  # Distance in meters\n",
    "    X = X.copy()\n",
    "    y = y.copy()\n",
    "\n",
    "    # Convert to a list if it is not a list\n",
    "    if not isinstance(n_neighbors, list):\n",
    "        n_neighbors = [n_neighbors]\n",
    "    else:\n",
    "        n_neighbors = n_neighbors\n",
    "\n",
    "    # Create DataFrame to store the predictions\n",
    "    df_predictions = pd.DataFrame([[None for n in n_neighbors] for i in range(len(X))])\n",
    "    df_predictions.columns = [n for n in n_neighbors]\n",
    "\n",
    "    # Create DataFrame to store the scoring results and predictions for each value of n_neighbors\n",
    "    df_results = pd.DataFrame([None, None] for n in n_neighbors)\n",
    "    df_results.columns = ['score', 'predictions']\n",
    "    df_results.index = [n for n in n_neighbors]\n",
    "    df_results.index.name = 'n_neighbours'\n",
    "\n",
    "    # The kneighbours() method of the sklearn.kneighbors models returns a matrix where\n",
    "    # each row is the indexes in X of the n_neighbors sorted in order of proximity to the\n",
    "    # same sample/row in X.\n",
    "\n",
    "    numberOfNeighbors = len(X) - 1  # We want to return all of the neighbors\n",
    "\n",
    "    # We must drop the geographic coordinates when fitting the model\n",
    "    model.fit(X.drop(['coordinate_x', 'coordinate_y'], axis=1), y)\n",
    "    neighbors_matrix = model.kneighbors(n_neighbors=numberOfNeighbors, return_distance=False)\n",
    "\n",
    "    # Now we have a matrix with the indexes of all the neighbours of each sample in ordered by proximity.\n",
    "    # However, this matrix contains also those data points that are inside the dead zone radius.\n",
    "    # To apply spatial leave-one-out cross-validation we need to find out which are the indexes of those data points\n",
    "    # that are inside the dead zone so we can ignore them:\n",
    "    for index, sample in X.iterrows():\n",
    "\n",
    "        if radius != 0:\n",
    "            # Get coordinates of the current sample\n",
    "            sample_xy = (sample['coordinate_x'], sample['coordinate_y'])\n",
    "\n",
    "            # Calculate geographic distances from each data point to the current sample\n",
    "            X['distance'] = X.apply(\n",
    "                lambda x: get_geographical_distance(sample_xy, (x['coordinate_x'], x['coordinate_y'])),\n",
    "                axis=1)\n",
    "            # Get indexes of the data points that are inside the dead zone radius\n",
    "            inside = X[X['distance'] <= dead_zone_radius]\n",
    "            indexesToIgnore = list(inside.index.values)\n",
    "        else:\n",
    "            indexesToIgnore = []\n",
    "\n",
    "        # Get the list of neighbors of the current sample.\n",
    "        neighbors = neighbors_matrix[index]\n",
    "\n",
    "        # Get the indexes of the k nearest neighbours ignoring those inside the dead zone radius\n",
    "        neighbors_indexes = []\n",
    "        pointer = 0\n",
    "        while len(neighbors_indexes) < max(n_neighbors):\n",
    "            neighbor_index = neighbors[pointer]\n",
    "            if neighbor_index in indexesToIgnore:\n",
    "                pointer += 1\n",
    "            else:\n",
    "                neighbors_indexes.append(neighbor_index)\n",
    "                pointer += 1\n",
    "\n",
    "        # Make a prediction for each of the n_neighbors values\n",
    "        for n in n_neighbors:\n",
    "            df_predictions.loc[index][n] = mean([y[neighbor_index] for neighbor_index in neighbors_indexes[:n]])\n",
    "\n",
    "    # Score the predictions\n",
    "    for n in n_neighbors:\n",
    "        y_pred = df_predictions[n].values\n",
    "        score = scoring(y, y_pred)\n",
    "        df_results.loc[n]['score'] = score\n",
    "        df_results.loc[n]['predictions'] = y_pred\n",
    "\n",
    "        if verbose:\n",
    "            print(f\"Neighbors: {n} - Score: {score}\")\n",
    "\n",
    "    return df_results"
   ]
  },
  {
   "cell_type": "markdown",
   "metadata": {},
   "source": [
    "#### Comparing both implementations:"
   ]
  },
  {
   "cell_type": "code",
   "execution_count": 78,
   "metadata": {
    "ExecuteTime": {
     "end_time": "2019-11-26T15:49:29.129642Z",
     "start_time": "2019-11-26T15:39:31.978136Z"
    }
   },
   "outputs": [
    {
     "name": "stdout",
     "output_type": "stream",
     "text": [
      "Normal SKCV: 507.8381410999864 s\n",
      "Optimized SKCV: 89.30317490000743 s\n"
     ]
    }
   ],
   "source": [
    "from timeit import default_timer as timer\n",
    "\n",
    "n_neighbors = [2, 3, 4, 5, 6]\n",
    "\n",
    "\n",
    "# Normal SKCV\n",
    "start = timer()\n",
    "for n in n_neighbors:\n",
    "    knn = KNeighborsRegressor(n_neighbors=n, metric='euclidean')\n",
    "    spatial_cross_validation(model=knn, X=X, y=y, scoring=c_index, radius=10, verbose=False)\n",
    "end = timer()\n",
    "print(f\"Normal SKCV: {end - start} s\")\n",
    "\n",
    "# kNN Optimized SKCV:\n",
    "start = timer()\n",
    "knn = KNeighborsRegressor(metric='euclidean')\n",
    "spatial_CV_knn_optimized(model=knn, X=X, y=pd.Series(y), radius=10, scoring=c_index, n_neighbors=n_neighbors, verbose=False)\n",
    "end = timer()\n",
    "print(f\"Optimized SKCV: {end - start} s\")"
   ]
  },
  {
   "cell_type": "markdown",
   "metadata": {},
   "source": [
    "With the normal SKCV function the Time Complexity of the algorithm when testing k different values for n_neighbors was O(n*k), while the Time Complexity of the algorithm when using the optimized SKCV function is O(n). This means that we can test the  performance of our kNN model with as many different number of neighbours as we want without increasing the execution time."
   ]
  },
  {
   "cell_type": "markdown",
   "metadata": {},
   "source": [
    "### Random-leave-out (SKCV-RLO)"
   ]
  },
  {
   "cell_type": "markdown",
   "metadata": {},
   "source": [
    "One important aspect that we have not taken into account until now is how much of the decrease in performance in the SKCV is just caused by the decreased size of the training set. As described in (Pohjankukka et al. 2017) a easy way to measure that effect is to implement a random-leave-out (SKCV-RLO). SKCV-RLO is identical to the SKCV method with the exception that instead of removing data points from the training set that are inside the dead zone perimeter, we instead remove the same number of data points randomly from the training set as we would remove in SKCV (Pohjankukka et al. 2017).\n"
   ]
  },
  {
   "cell_type": "markdown",
   "metadata": {},
   "source": [
    "#### SKCV-RLO implementation:"
   ]
  },
  {
   "cell_type": "code",
   "execution_count": 131,
   "metadata": {
    "ExecuteTime": {
     "end_time": "2019-11-26T20:10:26.558313Z",
     "start_time": "2019-11-26T20:10:26.547345Z"
    }
   },
   "outputs": [],
   "source": [
    "# SKCV-RLO implementation\n",
    "def random_leave_out_cv(*, model, X, y, scoring, radius=0, verbose=True):\n",
    "   \n",
    "    dead_zone_radius = radius  # Deadzone radius in meters\n",
    "    X = X.copy()\n",
    "    y = y.copy()\n",
    "\n",
    "    # Set scoring function\n",
    "    scoring = scoring\n",
    "\n",
    "    y_df = pd.DataFrame(y, columns=['target'])\n",
    "    df = pd.concat([X, y_df], axis=1)\n",
    "\n",
    "    predictions = []\n",
    "    for index, sample in df.iterrows():\n",
    "        sample_xy = (sample['coordinate_x'], sample['coordinate_y'])\n",
    "\n",
    "        # Calculate geographic distances\n",
    "        if radius != 0:\n",
    "            df['distance'] = df.apply(\n",
    "                lambda x: get_geographical_distance(sample_xy, (x['coordinate_x'], x['coordinate_y'])), axis=1)\n",
    "            \n",
    "            # Train size\n",
    "            train_size = len(df[df['distance'] > dead_zone_radius])\n",
    "            \n",
    "            df_train = df.drop(index)\n",
    "            df_train = df_train.sample(n=train_size, random_state=0)\n",
    "            \n",
    "            X_train = df_train.drop(['coordinate_x', 'coordinate_y', 'distance', 'target'], axis=1)\n",
    "\n",
    "        else:\n",
    "            # If radius==0 drop only the sample present in the test set\n",
    "            df_train = df.drop(index)\n",
    "            X_train = df_train.drop(['coordinate_x', 'coordinate_y', 'target'], axis=1)\n",
    "\n",
    "        y_train = df_train['target']\n",
    "        X_test = sample.drop(['coordinate_x', 'coordinate_y', 'target'])\n",
    "        X_test = np.array(X_test).reshape(1, -1)\n",
    "\n",
    "        # Make prediction\n",
    "        pred = model.fit(X_train, y_train).predict(X_test)\n",
    "        predictions.append(pred[0])\n",
    "\n",
    "    # Evaluate predictions\n",
    "    score = scoring(y, predictions)\n",
    "    if verbose:\n",
    "        print(f\"\\nScore: {score}\\n\")\n",
    "\n",
    "    dict_results = {'score': score, 'predictions': predictions}\n",
    "\n",
    "    return dict_results\n"
   ]
  },
  {
   "cell_type": "markdown",
   "metadata": {},
   "source": [
    "#### Let's go ahead and compare the results of both cross-validations"
   ]
  },
  {
   "cell_type": "code",
   "execution_count": 188,
   "metadata": {
    "ExecuteTime": {
     "end_time": "2019-11-27T09:04:09.051402Z",
     "start_time": "2019-11-27T07:48:47.058268Z"
    }
   },
   "outputs": [],
   "source": [
    "from sklearn.metrics import mean_squared_error\n",
    "\n",
    "knn = KNeighborsRegressor(n_neighbors=10, metric='euclidean')\n",
    "\n",
    "radius = [r for r in range(0, 201, 10)]\n",
    "\n",
    "scores_SKCV_RLO = {}\n",
    "for r in radius:\n",
    "    results = random_leave_out_cv(model=knn, X=X, y=y, scoring=c_index, radius=r, verbose=False)\n",
    "    scores_SKCV_RLO[r] = results['score']\n",
    "\n",
    "scores_SKCV = {}\n",
    "for r in radius:\n",
    "    results = spatial_cross_validation(model=knn, X=X, y=y, scoring=c_index, radius=r, verbose=False)    \n",
    "    scores_SKCV[r] = results['score']"
   ]
  },
  {
   "cell_type": "markdown",
   "metadata": {
    "ExecuteTime": {
     "end_time": "2019-11-30T13:12:25.264260Z",
     "start_time": "2019-11-30T13:12:25.260270Z"
    }
   },
   "source": [
    "#### Let's plot the results"
   ]
  },
  {
   "cell_type": "code",
   "execution_count": 195,
   "metadata": {
    "ExecuteTime": {
     "end_time": "2019-11-27T16:28:37.091801Z",
     "start_time": "2019-11-27T16:28:36.844465Z"
    }
   },
   "outputs": [
    {
     "data": {
      "text/plain": [
       "Text(0.5, 1.0, 'c-index vs dead zone radius')"
      ]
     },
     "execution_count": 195,
     "metadata": {},
     "output_type": "execute_result"
    },
    {
     "data": {
      "image/png": "[encoded data removed]",
      "text/plain": [
       "<Figure size 432x288 with 1 Axes>"
      ]
     },
     "metadata": {
      "needs_background": "light"
     },
     "output_type": "display_data"
    }
   ],
   "source": [
    "import seaborn as sns\n",
    "\n",
    "SKCV_RLO = pd.Series(scores_SKCV_RLO)\n",
    "SKCV = pd.Series(scores_SKCV)\n",
    "df = pd.concat([SKCV, SKCV_RLO]).reset_index()\n",
    "df['CV'] = ['SKCV_RLO' for i in range(len(SKCV_RLO))] + ['SKCV' for i in range(len(SKCV))]\n",
    "df.columns = ['r', 'c-index', 'CV']\n",
    "\n",
    "sns.lineplot(y='c-index', x='r', hue='CV', size=None, data=df).set_title('c-index vs dead zone radius')"
   ]
  },
  {
   "cell_type": "markdown",
   "metadata": {},
   "source": [
    "As we see, there is a clear difference between the SKCV_RLO and the SKCV performance results. Increassing the dead zone radius strongly affects negativelly the performance result in the SKCV, while in the SKCV_RLO, removing the same number of data points but randomly does not practically affect to the performace result.\n",
    "\n",
    "This results confirm, as was discussed above, that using a traditional cross-validation would result in a highly over-optimistic performance result, and that SKCV is a good method to counteract the effect of SAC.\n"
   ]
  }
 ],
 "metadata": {
  "kernelspec": {
   "display_name": "Python 3",
   "language": "python",
   "name": "python3"
  },
  "language_info": {
   "codemirror_mode": {
    "name": "ipython",
    "version": 3
   },
   "file_extension": ".py",
   "mimetype": "text/x-python",
   "name": "python",
   "nbconvert_exporter": "python",
   "pygments_lexer": "ipython3",
   "version": "3.7.4"
  },
  "varInspector": {
   "cols": {
    "lenName": 16,
    "lenType": 16,
    "lenVar": 40
   },
   "kernels_config": {
    "python": {
     "delete_cmd_postfix": "",
     "delete_cmd_prefix": "del ",
     "library": "var_list.py",
     "varRefreshCmd": "print(var_dic_list())"
    },
    "r": {
     "delete_cmd_postfix": ") ",
     "delete_cmd_prefix": "rm(",
     "library": "var_list.r",
     "varRefreshCmd": "cat(var_dic_list()) "
    }
   },
   "types_to_exclude": [
    "module",
    "function",
    "builtin_function_or_method",
    "instance",
    "_Feature"
   ],
   "window_display": false
  }
 },
 "nbformat": 4,
 "nbformat_minor": 2
}
